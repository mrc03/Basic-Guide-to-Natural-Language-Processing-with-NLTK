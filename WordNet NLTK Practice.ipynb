{
 "cells": [
  {
   "cell_type": "markdown",
   "metadata": {},
   "source": [
    "## Intro to WordNet with NLTK Library."
   ]
  },
  {
   "cell_type": "code",
   "execution_count": null,
   "metadata": {},
   "outputs": [],
   "source": []
  },
  {
   "cell_type": "markdown",
   "metadata": {},
   "source": [
    "#### IMPORTING MODULES"
   ]
  },
  {
   "cell_type": "code",
   "execution_count": 1,
   "metadata": {},
   "outputs": [],
   "source": [
    "from nltk.corpus import wordnet as wn"
   ]
  },
  {
   "cell_type": "code",
   "execution_count": null,
   "metadata": {},
   "outputs": [],
   "source": []
  },
  {
   "cell_type": "markdown",
   "metadata": {},
   "source": [
    "#### FINDING SYNSETS FOR A GIVEN WORD"
   ]
  },
  {
   "cell_type": "code",
   "execution_count": 2,
   "metadata": {},
   "outputs": [
    {
     "name": "stdout",
     "output_type": "stream",
     "text": [
      "[Synset('book.n.01'), Synset('book.n.02'), Synset('record.n.05'), Synset('script.n.01'), Synset('ledger.n.01'), Synset('book.n.06'), Synset('book.n.07'), Synset('koran.n.01'), Synset('bible.n.01'), Synset('book.n.10'), Synset('book.n.11'), Synset('book.v.01'), Synset('reserve.v.04'), Synset('book.v.03'), Synset('book.v.04')]\n"
     ]
    }
   ],
   "source": [
    "syns=wn.synsets('book')\n",
    "print(syns)"
   ]
  },
  {
   "cell_type": "code",
   "execution_count": null,
   "metadata": {},
   "outputs": [],
   "source": []
  },
  {
   "cell_type": "markdown",
   "metadata": {},
   "source": [
    "This gives different synsets to which the word 'book' belongs. Each synset has an associated meaning or context.we can see the meaning associated with each sysnset as follows:"
   ]
  },
  {
   "cell_type": "code",
   "execution_count": null,
   "metadata": {},
   "outputs": [],
   "source": []
  },
  {
   "cell_type": "markdown",
   "metadata": {},
   "source": [
    "#### THE DEFINTION OF A SYNSET"
   ]
  },
  {
   "cell_type": "code",
   "execution_count": 3,
   "metadata": {},
   "outputs": [
    {
     "name": "stdout",
     "output_type": "stream",
     "text": [
      "Meaning 1:  a written work or composition that has been published (printed on pages bound together)\n",
      "Meaning 2:  physical objects consisting of a number of pages bound together\n",
      "Meaning 3:  engage for a performance\n"
     ]
    }
   ],
   "source": [
    "print(\"Meaning 1: \",wn.synset('book.n.01').definition())  # n stands for noun and 01 is the number\n",
    "print(\"Meaning 2: \",wn.synset('book.n.02').definition())  # again n is for noun and 02 denotes second synset as noun\n",
    "print(\"Meaning 3: \",wn.synset('book.v.01').definition())  # v here is for verb"
   ]
  },
  {
   "cell_type": "code",
   "execution_count": 4,
   "metadata": {},
   "outputs": [],
   "source": [
    "# knowing the definition we can also find usage examples for a given synset as shown :"
   ]
  },
  {
   "cell_type": "markdown",
   "metadata": {},
   "source": [
    "#### THE USAGE EXAMPLE(s)"
   ]
  },
  {
   "cell_type": "code",
   "execution_count": 5,
   "metadata": {},
   "outputs": [
    {
     "name": "stdout",
     "output_type": "stream",
     "text": [
      "Example for synset 'Synset('book.n.01'):  I am reading a good book on economics\n",
      "Example for synset 'Synset('book.n.02'):  I am reading a good book on economics\n",
      "Example for synset 'Synset('book.v.01'):  Her agent had booked her for several concerts in Tokyo\n"
     ]
    }
   ],
   "source": [
    "print(\"Example for synset 'Synset('book.n.01'): \",wn.synset('book.n.01').examples()[0])\n",
    "print(\"Example for synset 'Synset('book.n.02'): \",wn.synset('book.n.01').examples()[0])\n",
    "print(\"Example for synset 'Synset('book.v.01'): \",wn.synset('book.v.01').examples()[0])"
   ]
  },
  {
   "cell_type": "code",
   "execution_count": null,
   "metadata": {},
   "outputs": [],
   "source": []
  },
  {
   "cell_type": "code",
   "execution_count": 6,
   "metadata": {},
   "outputs": [],
   "source": [
    "# now all the synonyms in a given synset are called lemmas. we can find the lemmas as :"
   ]
  },
  {
   "cell_type": "markdown",
   "metadata": {},
   "source": [
    "#### THE LEMMAS"
   ]
  },
  {
   "cell_type": "code",
   "execution_count": 7,
   "metadata": {},
   "outputs": [
    {
     "name": "stdout",
     "output_type": "stream",
     "text": [
      "Lemmas for synset 'Synset('book.n.01'):  ['book']\n",
      "Lemmas for synset 'Synset('book.n.02'):  ['book']\n",
      "Lemmas for synset 'Synset('book.v.01'):  ['book']\n"
     ]
    }
   ],
   "source": [
    "print(\"Lemmas for synset 'Synset('book.n.01'): \",wn.synset('book.n.01').lemma_names())\n",
    "print(\"Lemmas for synset 'Synset('book.n.02'): \",wn.synset('book.n.01').lemma_names())\n",
    "print(\"Lemmas for synset 'Synset('book.v.01'): \",wn.synset('book.v.01').lemma_names())"
   ]
  },
  {
   "cell_type": "code",
   "execution_count": 8,
   "metadata": {},
   "outputs": [
    {
     "name": "stdout",
     "output_type": "stream",
     "text": [
      "All the lemmas in the 'Synset('bible.n.01')' are :\n",
      "\n",
      " [Lemma('bible.n.01.Bible'), Lemma('bible.n.01.Christian_Bible'), Lemma('bible.n.01.Book'), Lemma('bible.n.01.Good_Book'), Lemma('bible.n.01.Holy_Scripture'), Lemma('bible.n.01.Holy_Writ'), Lemma('bible.n.01.Scripture'), Lemma('bible.n.01.Word_of_God'), Lemma('bible.n.01.Word')]\n"
     ]
    }
   ],
   "source": [
    "# some useful eg\n",
    "print(\"All the lemmas in the 'Synset('bible.n.01')' are :\\n\\n\",wn.synset('bible.n.01').lemmas())\n",
    "\n",
    "# this means that all these words are synonyms and may be used in a single "
   ]
  },
  {
   "cell_type": "code",
   "execution_count": null,
   "metadata": {},
   "outputs": [],
   "source": []
  },
  {
   "cell_type": "code",
   "execution_count": 9,
   "metadata": {},
   "outputs": [
    {
     "data": {
      "text/plain": [
       "['Bible',\n",
       " 'Christian_Bible',\n",
       " 'Book',\n",
       " 'Good_Book',\n",
       " 'Holy_Scripture',\n",
       " 'Holy_Writ',\n",
       " 'Scripture',\n",
       " 'Word_of_God',\n",
       " 'Word']"
      ]
     },
     "execution_count": 9,
     "metadata": {},
     "output_type": "execute_result"
    }
   ],
   "source": [
    "# can aslo use lemma_nmaes to get only the main word.\n",
    "wn.synset('bible.n.01').lemma_names()"
   ]
  },
  {
   "cell_type": "code",
   "execution_count": null,
   "metadata": {},
   "outputs": [],
   "source": []
  },
  {
   "cell_type": "markdown",
   "metadata": {},
   "source": [
    "#### THE ANTONYM(s)"
   ]
  },
  {
   "cell_type": "code",
   "execution_count": 10,
   "metadata": {},
   "outputs": [
    {
     "name": "stdout",
     "output_type": "stream",
     "text": [
      "[Lemma('love.n.01.love')]\n",
      "[Lemma('hate.n.01.hate')]\n"
     ]
    }
   ],
   "source": [
    "# lets change the word. say this time we choose 'love'.\n",
    "wn.synsets('love')\n",
    "\n",
    "# finding lemmas for synset 1\n",
    "lemmas=wn.synset('love.n.01').lemmas()\n",
    "print(lemmas)\n",
    "for lemma in lemmas:\n",
    "    if lemma.antonyms():\n",
    "        print(lemma.antonyms())  # hate is antonym to love.\n"
   ]
  },
  {
   "cell_type": "code",
   "execution_count": 11,
   "metadata": {},
   "outputs": [
    {
     "name": "stdout",
     "output_type": "stream",
     "text": [
      "[Synset('hate.n.01'), Synset('hate.v.01')]\n",
      "['hate', 'hatred']\n"
     ]
    }
   ],
   "source": [
    "# just to verify.\n",
    "print(wn.synsets('hate'))\n",
    "print(wn.synset('hate.n.01').lemma_names())"
   ]
  },
  {
   "cell_type": "code",
   "execution_count": null,
   "metadata": {},
   "outputs": [],
   "source": []
  },
  {
   "cell_type": "markdown",
   "metadata": {},
   "source": [
    "#### HYPERNYMS & HYPONYMS"
   ]
  },
  {
   "cell_type": "code",
   "execution_count": 12,
   "metadata": {},
   "outputs": [],
   "source": [
    "# hyponyms---> specific"
   ]
  },
  {
   "cell_type": "code",
   "execution_count": 13,
   "metadata": {},
   "outputs": [
    {
     "data": {
      "text/plain": [
       "[Synset('appointment_book.n.01'),\n",
       " Synset('authority.n.07'),\n",
       " Synset('bestiary.n.01'),\n",
       " Synset('booklet.n.01'),\n",
       " Synset('catalog.n.01'),\n",
       " Synset('catechism.n.02'),\n",
       " Synset('copybook.n.01'),\n",
       " Synset('curiosa.n.01'),\n",
       " Synset('formulary.n.01'),\n",
       " Synset('phrase_book.n.01'),\n",
       " Synset('playbook.n.02'),\n",
       " Synset('pop-up_book.n.01'),\n",
       " Synset('prayer_book.n.01'),\n",
       " Synset('reference_book.n.01'),\n",
       " Synset('review_copy.n.01'),\n",
       " Synset('songbook.n.01'),\n",
       " Synset('storybook.n.01'),\n",
       " Synset('textbook.n.01'),\n",
       " Synset('tome.n.01'),\n",
       " Synset('trade_book.n.01'),\n",
       " Synset('workbook.n.01'),\n",
       " Synset('yearbook.n.01')]"
      ]
     },
     "execution_count": 13,
     "metadata": {},
     "output_type": "execute_result"
    }
   ],
   "source": [
    "wn.synset('book.n.01').hyponyms()"
   ]
  },
  {
   "cell_type": "code",
   "execution_count": 14,
   "metadata": {},
   "outputs": [
    {
     "data": {
      "text/plain": [
       "'a written work or composition that has been published (printed on pages bound together)'"
      ]
     },
     "execution_count": 14,
     "metadata": {},
     "output_type": "execute_result"
    }
   ],
   "source": [
    "# now check the meaning just to see better.\n",
    "wn.synset('book.n.01').definition()"
   ]
  },
  {
   "cell_type": "code",
   "execution_count": 15,
   "metadata": {},
   "outputs": [
    {
     "data": {
      "text/plain": [
       "'a book or pamphlet containing an enumeration of things'"
      ]
     },
     "execution_count": 15,
     "metadata": {},
     "output_type": "execute_result"
    }
   ],
   "source": [
    "# and say for hyponym catelog\n",
    "wn.synset('catalog.n.01').definition() # which obviously is a more specific use of book and hence a hyponym"
   ]
  },
  {
   "cell_type": "code",
   "execution_count": null,
   "metadata": {},
   "outputs": [],
   "source": []
  },
  {
   "cell_type": "code",
   "execution_count": 16,
   "metadata": {},
   "outputs": [],
   "source": [
    "# hypernyms---> general"
   ]
  },
  {
   "cell_type": "code",
   "execution_count": null,
   "metadata": {},
   "outputs": [],
   "source": []
  },
  {
   "cell_type": "code",
   "execution_count": 17,
   "metadata": {},
   "outputs": [
    {
     "data": {
      "text/plain": [
       "[Synset('publication.n.01')]"
      ]
     },
     "execution_count": 17,
     "metadata": {},
     "output_type": "execute_result"
    }
   ],
   "source": [
    "wn.synset('book.n.01').hypernyms()"
   ]
  },
  {
   "cell_type": "code",
   "execution_count": 18,
   "metadata": {},
   "outputs": [
    {
     "data": {
      "text/plain": [
       "'a copy of a printed work offered for distribution'"
      ]
     },
     "execution_count": 18,
     "metadata": {},
     "output_type": "execute_result"
    }
   ],
   "source": [
    "# check the meaning of publication.\n",
    "wn.synset('publication.n.01').definition() # a more genral term for book"
   ]
  },
  {
   "cell_type": "code",
   "execution_count": null,
   "metadata": {},
   "outputs": [],
   "source": []
  },
  {
   "cell_type": "markdown",
   "metadata": {},
   "source": [
    "#### MERONYMS AND HOLONYMS"
   ]
  },
  {
   "cell_type": "code",
   "execution_count": 19,
   "metadata": {},
   "outputs": [],
   "source": [
    "# meronyms ---> part"
   ]
  },
  {
   "cell_type": "code",
   "execution_count": 20,
   "metadata": {},
   "outputs": [
    {
     "data": {
      "text/plain": [
       "[Synset('annex.n.01'),\n",
       " Synset('anteroom.n.01'),\n",
       " Synset('corner.n.03'),\n",
       " Synset('corner.n.11'),\n",
       " Synset('cornerstone.n.02'),\n",
       " Synset('cornerstone.n.03'),\n",
       " Synset('court.n.10'),\n",
       " Synset('crawlspace.n.01'),\n",
       " Synset('cullis.n.01'),\n",
       " Synset('elevator.n.01'),\n",
       " Synset('exterior_door.n.01'),\n",
       " Synset('floor.n.02'),\n",
       " Synset('foundation_stone.n.01'),\n",
       " Synset('heating_system.n.01'),\n",
       " Synset('interior_door.n.01'),\n",
       " Synset('roof.n.01'),\n",
       " Synset('room.n.01'),\n",
       " Synset('scantling.n.01'),\n",
       " Synset('shaft.n.08'),\n",
       " Synset('skeleton.n.04'),\n",
       " Synset('stairway.n.01'),\n",
       " Synset('upstairs.n.01'),\n",
       " Synset('wall.n.01'),\n",
       " Synset('window.n.01')]"
      ]
     },
     "execution_count": 20,
     "metadata": {},
     "output_type": "execute_result"
    }
   ],
   "source": [
    "wn.synset('building.n.01').part_meronyms()"
   ]
  },
  {
   "cell_type": "code",
   "execution_count": null,
   "metadata": {},
   "outputs": [],
   "source": []
  },
  {
   "cell_type": "code",
   "execution_count": 21,
   "metadata": {},
   "outputs": [],
   "source": [
    "# holonyms ---> whole"
   ]
  },
  {
   "cell_type": "code",
   "execution_count": null,
   "metadata": {},
   "outputs": [],
   "source": []
  },
  {
   "cell_type": "code",
   "execution_count": 22,
   "metadata": {},
   "outputs": [
    {
     "data": {
      "text/plain": [
       "[Synset('building.n.01')]"
      ]
     },
     "execution_count": 22,
     "metadata": {},
     "output_type": "execute_result"
    }
   ],
   "source": [
    "wn.synset('window.n.01').part_holonyms()"
   ]
  },
  {
   "cell_type": "code",
   "execution_count": null,
   "metadata": {},
   "outputs": [],
   "source": []
  },
  {
   "cell_type": "markdown",
   "metadata": {},
   "source": [
    "#### ENTAILMENT.\n",
    "\n",
    "when one verb imlies other. like snoring impies that one is definitely sleeping."
   ]
  },
  {
   "cell_type": "code",
   "execution_count": null,
   "metadata": {},
   "outputs": [],
   "source": []
  },
  {
   "cell_type": "code",
   "execution_count": 23,
   "metadata": {},
   "outputs": [
    {
     "data": {
      "text/plain": [
       "[Synset('sleep.v.01')]"
      ]
     },
     "execution_count": 23,
     "metadata": {},
     "output_type": "execute_result"
    }
   ],
   "source": [
    "wn.synsets('snore')\n",
    "wn.synset('snore.v.01').entailments() #  see.. I said;)"
   ]
  },
  {
   "cell_type": "code",
   "execution_count": null,
   "metadata": {},
   "outputs": [],
   "source": []
  },
  {
   "cell_type": "code",
   "execution_count": 24,
   "metadata": {},
   "outputs": [],
   "source": [
    "# troponyms---> when one verb is doing something in a particular fashion."
   ]
  },
  {
   "cell_type": "code",
   "execution_count": 25,
   "metadata": {},
   "outputs": [],
   "source": [
    "# wn.synset('talk.v.01').troponym()"
   ]
  },
  {
   "cell_type": "code",
   "execution_count": null,
   "metadata": {},
   "outputs": [],
   "source": []
  },
  {
   "cell_type": "markdown",
   "metadata": {},
   "source": [
    "#### POSSIBLE ATTRIBUTES"
   ]
  },
  {
   "cell_type": "code",
   "execution_count": 26,
   "metadata": {},
   "outputs": [
    {
     "data": {
      "text/plain": [
       "['__call__',\n",
       " '__class__',\n",
       " '__delattr__',\n",
       " '__dir__',\n",
       " '__doc__',\n",
       " '__eq__',\n",
       " '__format__',\n",
       " '__func__',\n",
       " '__ge__',\n",
       " '__get__',\n",
       " '__getattribute__',\n",
       " '__gt__',\n",
       " '__hash__',\n",
       " '__init__',\n",
       " '__init_subclass__',\n",
       " '__le__',\n",
       " '__lt__',\n",
       " '__ne__',\n",
       " '__new__',\n",
       " '__reduce__',\n",
       " '__reduce_ex__',\n",
       " '__repr__',\n",
       " '__self__',\n",
       " '__setattr__',\n",
       " '__sizeof__',\n",
       " '__str__',\n",
       " '__subclasshook__']"
      ]
     },
     "execution_count": 26,
     "metadata": {},
     "output_type": "execute_result"
    }
   ],
   "source": [
    "dir(wn.synset)"
   ]
  },
  {
   "cell_type": "code",
   "execution_count": null,
   "metadata": {},
   "outputs": [],
   "source": []
  },
  {
   "cell_type": "markdown",
   "metadata": {},
   "source": [
    "#### SIMILARITY BETWEEN TWO SYNSETS"
   ]
  },
  {
   "cell_type": "code",
   "execution_count": 27,
   "metadata": {},
   "outputs": [
    {
     "name": "stdout",
     "output_type": "stream",
     "text": [
      "0.2\n"
     ]
    }
   ],
   "source": [
    "dog=wn.synset('dog.n.01')\n",
    "cat=wn.synset('cat.n.01')\n",
    "print(dog.path_similarity(cat))"
   ]
  },
  {
   "cell_type": "code",
   "execution_count": 28,
   "metadata": {},
   "outputs": [
    {
     "name": "stdout",
     "output_type": "stream",
     "text": [
      "0.25\n"
     ]
    }
   ],
   "source": [
    "bread=wn.synset('bread.n.01')\n",
    "butter=wn.synset('butter.n.01')\n",
    "print(bread.path_similarity(butter))"
   ]
  },
  {
   "cell_type": "code",
   "execution_count": null,
   "metadata": {},
   "outputs": [],
   "source": []
  }
 ],
 "metadata": {
  "kernelspec": {
   "display_name": "Python 3",
   "language": "python",
   "name": "python3"
  },
  "language_info": {
   "codemirror_mode": {
    "name": "ipython",
    "version": 3
   },
   "file_extension": ".py",
   "mimetype": "text/x-python",
   "name": "python",
   "nbconvert_exporter": "python",
   "pygments_lexer": "ipython3",
   "version": "3.6.6"
  }
 },
 "nbformat": 4,
 "nbformat_minor": 2
}
